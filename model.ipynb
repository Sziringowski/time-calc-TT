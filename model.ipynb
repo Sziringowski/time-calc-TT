{
 "cells": [
  {
   "cell_type": "markdown",
   "metadata": {},
   "source": [
    "# Модель\n",
    "Обучение и валидация моделей"
   ]
  },
  {
   "cell_type": "code",
   "execution_count": 1,
   "metadata": {},
   "outputs": [],
   "source": [
    "import sys\n",
    "sys.path.append('C:/time-calc-TT/scripts')  # для локпака надо рестартить кернел после каждого изменения пакета\n",
    "import scripts.data_preprocessing as preproc\n",
    "\n",
    "from sklearn.ensemble import RandomForestRegressor\n",
    "from sklearn.model_selection import train_test_split\n",
    "from sklearn.metrics import mean_squared_error, r2_score\n",
    "import numpy as np\n",
    "import pandas as pd\n",
    "from sklearn.preprocessing import MinMaxScaler\n",
    "from sklearn.ensemble import GradientBoostingRegressor\n",
    "from catboost import CatBoostRegressor\n",
    "import scripts.documentation as doc\n",
    "import random\n"
   ]
  },
  {
   "cell_type": "markdown",
   "metadata": {},
   "source": [
    "## Оценка важности фичей"
   ]
  },
  {
   "cell_type": "markdown",
   "metadata": {},
   "source": [
    "### Random Forest"
   ]
  },
  {
   "cell_type": "code",
   "execution_count": 2,
   "metadata": {},
   "outputs": [],
   "source": [
    "removed_features = ['font_type_logo']#, 'font_type_handwritten', 'calc_type_logo']"
   ]
  },
  {
   "cell_type": "code",
   "execution_count": 11,
   "metadata": {},
   "outputs": [
    {
     "name": "stderr",
     "output_type": "stream",
     "text": [
      "c:\\Users\\shiri\\anaconda3\\envs\\pymc_env\\Lib\\site-packages\\openpyxl\\worksheet\\_read_only.py:85: UserWarning: Data Validation extension is not supported and will be removed\n",
      "  for idx, row in parser.parse():\n",
      "c:\\time-calc-TT\\scripts\\data_preprocessing.py:22: FutureWarning: Downcasting behavior in `replace` is deprecated and will be removed in a future version. To retain the old behavior, explicitly call `result.infer_objects(copy=False)`. To opt-in to the future behavior, set `pd.set_option('future.no_silent_downcasting', True)`\n",
      "  data[\"is_italic\"] = data[\"is_italic\"].replace({\"есть\": 1, \"нет\": 0}).infer_objects(copy=False)\n",
      "c:\\time-calc-TT\\scripts\\data_preprocessing.py:78: FutureWarning: The behavior of DataFrame concatenation with empty or all-NA entries is deprecated. In a future version, this will no longer exclude empty or all-NA columns when determining the result dtypes. To retain the old behavior, exclude the relevant entries before the concat operation.\n",
      "  df_operational = pd.concat([df_operational, temp_cat_feat])\n",
      "c:\\time-calc-TT\\scripts\\data_preprocessing.py:86: FutureWarning: Downcasting behavior in `replace` is deprecated and will be removed in a future version. To retain the old behavior, explicitly call `result.infer_objects(copy=False)`. To opt-in to the future behavior, set `pd.set_option('future.no_silent_downcasting', True)`\n",
      "  df_operational = df_operational.replace({True: 1, False: 0}).infer_objects(copy=False)\n"
     ]
    },
    {
     "name": "stdout",
     "output_type": "stream",
     "text": [
      "               seed_split  seed_catboost        r2     rrmse\n",
      "random_forest     1941567        5540975  0.635129  0.654014\n",
      "                         importance\n",
      "is_italic_1                0.360876\n",
      "n_gliphs                   0.338743\n",
      "n_styles                   0.208382\n",
      "font_type_grotesque        0.035979\n",
      "calc_type_new              0.030063\n",
      "calc_type_upd              0.016563\n",
      "font_type_mixed            0.005709\n",
      "calc_type_cyrillization    0.002250\n",
      "calc_type_tech_upd         0.001040\n",
      "font_type_handwritten      0.000273\n",
      "calc_type_logo             0.000123\n"
     ]
    }
   ],
   "source": [
    "data_df = preproc.OHE(preproc.read()['all_data'])\n",
    "X = data_df[\"features\"].drop(removed_features, axis=1)  # выкинули ЛЗ компонент\n",
    "\n",
    "min_max_scaler = MinMaxScaler()  # скейлим фичи в [0,1]\n",
    "X = pd.DataFrame(min_max_scaler.fit_transform(X),columns=X.columns,index=X.index)\n",
    "\n",
    "Y = data_df[\"targets\"]#[\"t_sketch\"]\n",
    "\n",
    "params_random_forest = {\n",
    "    \"seed_split\": 0,\n",
    "    \"seed_catboost\": 0,\n",
    "    \"r2\": 0,\n",
    "    \"rrmse\": 0\n",
    "}\n",
    "\n",
    "while params_random_forest[\"r2\"] < 0.6:\n",
    "    params_random_forest[\"seed_split\"] = random.randint(1, 10000000)\n",
    "    X_train, X_test, Y_train, Y_test = train_test_split(X, Y, test_size=0.2,random_state=params_random_forest[\"seed_split\"])\n",
    "    params_random_forest[\"seed_catboost\"] = random.randint(1, 10000000)\n",
    "    Model_Random_forest = RandomForestRegressor(n_estimators=100, criterion=\"squared_error\",random_state=params_random_forest[\"seed_catboost\"])\n",
    "    Model_Random_forest.fit(X_train, Y_train)\n",
    "\n",
    "    Y_pred = Model_Random_forest.predict(X_test)\n",
    "\n",
    "    params_random_forest['rrmse'] = np.sqrt(mean_squared_error(Y_test, Y_pred)) / np.mean(Y_pred)\n",
    "    params_random_forest['r2'] = r2_score(Y_test, Y_pred)\n",
    "\n",
    "print(pd.DataFrame(dict(zip(params_random_forest.keys(), [*params_random_forest.values()])),index=[\"random_forest\"]))\n",
    "print(pd.DataFrame(Model_Random_forest.feature_importances_, index=X.columns, columns=[\"importance\"]).sort_values(by=[\"importance\"], ascending=False))\n"
   ]
  },
  {
   "cell_type": "markdown",
   "metadata": {},
   "source": [
    "**Комменты:**\n",
    "* `font_type_mixed`, `font_type_handwritten`, `calc_type_logo`, `calc_type_cyrillization`, `calc_type_tech_upd` мало влияют на таргет-вектор\n",
    "* результат по $R^2$ нестабильный: от -0.01 до 0.5"
   ]
  },
  {
   "cell_type": "markdown",
   "metadata": {},
   "source": [
    "### Catboost"
   ]
  },
  {
   "cell_type": "markdown",
   "metadata": {},
   "source": [
    "* время, потраченное на скетч (`t_sketch`)\n",
    "  * время, потраченное на прямые (`t_straight`)\n",
    "  * время, потраченное на наклонные (`t_angled`)\n",
    "  * время, потраченное на мастеринг (`t_mast`)\n",
    "  * время, потраченное на кернинг (`t_kern`)\n",
    "  * время, потраченное на хинтинг (`t_hint`)"
   ]
  },
  {
   "cell_type": "markdown",
   "metadata": {},
   "source": [
    "* время, потраченное на наклонные (`t_angled`)"
   ]
  },
  {
   "cell_type": "code",
   "execution_count": 5,
   "metadata": {},
   "outputs": [
    {
     "name": "stderr",
     "output_type": "stream",
     "text": [
      "c:\\Users\\shiri\\anaconda3\\envs\\pymc_env\\Lib\\site-packages\\openpyxl\\worksheet\\_read_only.py:85: UserWarning: Data Validation extension is not supported and will be removed\n",
      "  for idx, row in parser.parse():\n",
      "c:\\time-calc-TT\\scripts\\data_preprocessing.py:22: FutureWarning: Downcasting behavior in `replace` is deprecated and will be removed in a future version. To retain the old behavior, explicitly call `result.infer_objects(copy=False)`. To opt-in to the future behavior, set `pd.set_option('future.no_silent_downcasting', True)`\n",
      "  data[\"is_italic\"] = data[\"is_italic\"].replace({\"есть\": 1, \"нет\": 0}).infer_objects(copy=False)\n"
     ]
    },
    {
     "name": "stdout",
     "output_type": "stream",
     "text": [
      "          seed_split  seed_catboost        r2     rrmse\n",
      "t_angled     9924424        3408385  0.966028  0.271274\n",
      "           importance\n",
      "is_italic   49.236057\n",
      "n_gliphs    25.243797\n",
      "n_styles    16.193240\n",
      "calc_type    9.326906\n",
      "font_type    0.000000\n"
     ]
    }
   ],
   "source": [
    "data_df = preproc.read()['all_data']\n",
    "X = data_df.drop(list(doc.doc[\"targets\"].keys()), axis=1) \n",
    "Y = data_df[list(doc.doc[\"targets\"].keys())][\"t_angled\"].fillna(0)\n",
    "cat_features = list(doc.doc[\"features\"][\"categorial\"].keys())\n",
    "X[cat_features] = X[cat_features].fillna(0).astype(\"str\")\n",
    "\n",
    "params_t_angled = {\n",
    "    \"seed_split\": 0,\n",
    "    \"seed_catboost\": 0,\n",
    "    \"r2\": 0,\n",
    "    \"rrmse\": 0\n",
    "}\n",
    "\n",
    "while params_t_angled[\"r2\"] < 0.85:\n",
    "    params_t_angled[\"seed_split\"] = random.randint(1, 10000000)\n",
    "    X_train, X_test, Y_train, Y_test = train_test_split(X, Y, test_size=0.2,random_state=params_t_angled[\"seed_split\"])\n",
    "    params_t_angled[\"seed_catboost\"] = random.randint(1, 10000000)\n",
    "    Model_t_angled = CatBoostRegressor(\n",
    "        iterations=100,\n",
    "        learning_rate=0.1,\n",
    "        depth=6,\n",
    "        random_state=params_t_angled[\"seed_catboost\"],\n",
    "        verbose=False\n",
    "        )\n",
    "    Model_t_angled.fit(\n",
    "        X_train, \n",
    "        Y_train, \n",
    "        cat_features=cat_features\n",
    "        )\n",
    "    Y_pred = Model_t_angled.predict(X_test)\n",
    "    rrmse = np.sqrt(mean_squared_error(Y_test, Y_pred)) / np.mean(Y_pred)\n",
    "    params_t_angled[\"r2\"] = r2_score(Y_test, Y_pred)\n",
    "    params_t_angled[\"rrmse\"] = np.sqrt(mean_squared_error(Y_test, Y_pred)) / np.mean(Y_pred)\n",
    "\n",
    "print(pd.DataFrame(dict(zip(params_t_angled.keys(), [*params_t_angled.values()])),index=[\"t_angled\"]))\n",
    "print(pd.DataFrame(Model_t_angled.feature_importances_, index=X.columns, columns=[\"importance\"]).sort_values(by=[\"importance\"], ascending=False))\n"
   ]
  },
  {
   "cell_type": "markdown",
   "metadata": {},
   "source": [
    "* время, потраченное на мастеринг (`t_mast`)"
   ]
  },
  {
   "cell_type": "code",
   "execution_count": 7,
   "metadata": {},
   "outputs": [
    {
     "name": "stderr",
     "output_type": "stream",
     "text": [
      "c:\\Users\\shiri\\anaconda3\\envs\\pymc_env\\Lib\\site-packages\\openpyxl\\worksheet\\_read_only.py:85: UserWarning: Data Validation extension is not supported and will be removed\n",
      "  for idx, row in parser.parse():\n",
      "c:\\time-calc-TT\\scripts\\data_preprocessing.py:22: FutureWarning: Downcasting behavior in `replace` is deprecated and will be removed in a future version. To retain the old behavior, explicitly call `result.infer_objects(copy=False)`. To opt-in to the future behavior, set `pd.set_option('future.no_silent_downcasting', True)`\n",
      "  data[\"is_italic\"] = data[\"is_italic\"].replace({\"есть\": 1, \"нет\": 0}).infer_objects(copy=False)\n"
     ]
    },
    {
     "name": "stdout",
     "output_type": "stream",
     "text": [
      "        seed_split  seed_catboost       r2     rrmse\n",
      "t_mast     9889913        5093750  0.71776  0.403739\n"
     ]
    },
    {
     "data": {
      "text/html": [
       "<div>\n",
       "<style scoped>\n",
       "    .dataframe tbody tr th:only-of-type {\n",
       "        vertical-align: middle;\n",
       "    }\n",
       "\n",
       "    .dataframe tbody tr th {\n",
       "        vertical-align: top;\n",
       "    }\n",
       "\n",
       "    .dataframe thead th {\n",
       "        text-align: right;\n",
       "    }\n",
       "</style>\n",
       "<table border=\"1\" class=\"dataframe\">\n",
       "  <thead>\n",
       "    <tr style=\"text-align: right;\">\n",
       "      <th></th>\n",
       "      <th>importance</th>\n",
       "    </tr>\n",
       "  </thead>\n",
       "  <tbody>\n",
       "    <tr>\n",
       "      <th>is_italic</th>\n",
       "      <td>50.082869</td>\n",
       "    </tr>\n",
       "    <tr>\n",
       "      <th>n_styles</th>\n",
       "      <td>21.973194</td>\n",
       "    </tr>\n",
       "    <tr>\n",
       "      <th>n_gliphs</th>\n",
       "      <td>9.431091</td>\n",
       "    </tr>\n",
       "    <tr>\n",
       "      <th>font_type</th>\n",
       "      <td>9.315567</td>\n",
       "    </tr>\n",
       "    <tr>\n",
       "      <th>calc_type</th>\n",
       "      <td>9.197279</td>\n",
       "    </tr>\n",
       "  </tbody>\n",
       "</table>\n",
       "</div>"
      ],
      "text/plain": [
       "           importance\n",
       "is_italic   50.082869\n",
       "n_styles    21.973194\n",
       "n_gliphs     9.431091\n",
       "font_type    9.315567\n",
       "calc_type    9.197279"
      ]
     },
     "execution_count": 7,
     "metadata": {},
     "output_type": "execute_result"
    }
   ],
   "source": [
    "data_df = preproc.read()['all_data']\n",
    "X = data_df.drop(list(doc.doc[\"targets\"].keys()), axis=1) \n",
    "Y = data_df[list(doc.doc[\"targets\"].keys())][\"t_mast\"].fillna(0)\n",
    "cat_features = list(doc.doc[\"features\"][\"categorial\"].keys())\n",
    "X[cat_features] = X[cat_features].fillna(0).astype(\"str\")\n",
    "\n",
    "params_t_mast = {\n",
    "    \"seed_split\": 0,\n",
    "    \"seed_catboost\": 0,\n",
    "    \"r2\": 0,\n",
    "    \"rrmse\": 0\n",
    "}\n",
    "\n",
    "while params_t_mast[\"r2\"] < 0.7:\n",
    "    params_t_mast[\"seed_split\"] = random.randint(1, 10000000)\n",
    "    X_train, X_test, Y_train, Y_test = train_test_split(X, Y, test_size=0.2,random_state=params_t_mast[\"seed_split\"])\n",
    "    params_t_mast[\"seed_catboost\"] = random.randint(1, 10000000)\n",
    "    Model_t_mast = CatBoostRegressor(\n",
    "        iterations=100,\n",
    "        learning_rate=0.1,\n",
    "        depth=6,\n",
    "        random_state=params_t_mast[\"seed_catboost\"],\n",
    "        verbose=False)\n",
    "    Model_t_mast.fit(\n",
    "        X_train, \n",
    "        Y_train, \n",
    "        cat_features=cat_features)\n",
    "    Y_pred = Model_t_mast.predict(X_test)\n",
    "    rrmse = np.sqrt(mean_squared_error(Y_test, Y_pred)) / np.mean(Y_pred)\n",
    "    params_t_mast[\"r2\"] = r2_score(Y_test, Y_pred)\n",
    "    params_t_mast[\"rrmse\"] = np.sqrt(mean_squared_error(Y_test, Y_pred)) / np.mean(Y_pred)\n",
    "\n",
    "print(pd.DataFrame(dict(zip(params_t_mast.keys(), [*params_t_mast.values()])),index=[\"t_mast\"]))\n",
    "pd.DataFrame(Model_t_mast.feature_importances_, index=X.columns, columns=[\"importance\"]).sort_values(by=[\"importance\"], ascending=False)\n"
   ]
  },
  {
   "cell_type": "markdown",
   "metadata": {},
   "source": [
    "* время, потраченное на кернинг (`t_kern`)"
   ]
  },
  {
   "cell_type": "code",
   "execution_count": 14,
   "metadata": {},
   "outputs": [
    {
     "name": "stderr",
     "output_type": "stream",
     "text": [
      "c:\\Users\\shiri\\anaconda3\\envs\\pymc_env\\Lib\\site-packages\\openpyxl\\worksheet\\_read_only.py:85: UserWarning: Data Validation extension is not supported and will be removed\n",
      "  for idx, row in parser.parse():\n",
      "c:\\time-calc-TT\\scripts\\data_preprocessing.py:22: FutureWarning: Downcasting behavior in `replace` is deprecated and will be removed in a future version. To retain the old behavior, explicitly call `result.infer_objects(copy=False)`. To opt-in to the future behavior, set `pd.set_option('future.no_silent_downcasting', True)`\n",
      "  data[\"is_italic\"] = data[\"is_italic\"].replace({\"есть\": 1, \"нет\": 0}).infer_objects(copy=False)\n"
     ]
    },
    {
     "name": "stdout",
     "output_type": "stream",
     "text": [
      "        seed_split  seed_catboost        r2     rrmse\n",
      "t_mast     1845330        8898898  0.774046  0.571468\n"
     ]
    },
    {
     "data": {
      "text/html": [
       "<div>\n",
       "<style scoped>\n",
       "    .dataframe tbody tr th:only-of-type {\n",
       "        vertical-align: middle;\n",
       "    }\n",
       "\n",
       "    .dataframe tbody tr th {\n",
       "        vertical-align: top;\n",
       "    }\n",
       "\n",
       "    .dataframe thead th {\n",
       "        text-align: right;\n",
       "    }\n",
       "</style>\n",
       "<table border=\"1\" class=\"dataframe\">\n",
       "  <thead>\n",
       "    <tr style=\"text-align: right;\">\n",
       "      <th></th>\n",
       "      <th>importance</th>\n",
       "    </tr>\n",
       "  </thead>\n",
       "  <tbody>\n",
       "    <tr>\n",
       "      <th>font_type</th>\n",
       "      <td>31.494503</td>\n",
       "    </tr>\n",
       "    <tr>\n",
       "      <th>is_italic</th>\n",
       "      <td>23.239352</td>\n",
       "    </tr>\n",
       "    <tr>\n",
       "      <th>calc_type</th>\n",
       "      <td>21.023359</td>\n",
       "    </tr>\n",
       "    <tr>\n",
       "      <th>n_styles</th>\n",
       "      <td>15.530435</td>\n",
       "    </tr>\n",
       "    <tr>\n",
       "      <th>n_gliphs</th>\n",
       "      <td>8.712351</td>\n",
       "    </tr>\n",
       "  </tbody>\n",
       "</table>\n",
       "</div>"
      ],
      "text/plain": [
       "           importance\n",
       "font_type   31.494503\n",
       "is_italic   23.239352\n",
       "calc_type   21.023359\n",
       "n_styles    15.530435\n",
       "n_gliphs     8.712351"
      ]
     },
     "execution_count": 14,
     "metadata": {},
     "output_type": "execute_result"
    }
   ],
   "source": [
    "data_df = preproc.read()['all_data']\n",
    "X = data_df.drop(list(doc.doc[\"targets\"].keys()), axis=1) \n",
    "Y = data_df[list(doc.doc[\"targets\"].keys())][\"t_kern\"].fillna(0)\n",
    "cat_features = list(doc.doc[\"features\"][\"categorial\"].keys())\n",
    "X[cat_features] = X[cat_features].fillna(0).astype(\"str\")\n",
    "\n",
    "params_t_kern = {\n",
    "    \"seed_split\": 0,\n",
    "    \"seed_catboost\": 0,\n",
    "    \"r2\": 0,\n",
    "    \"rrmse\": 0\n",
    "}\n",
    "\n",
    "while params_t_kern[\"r2\"] < 0.7:\n",
    "    params_t_kern[\"seed_split\"] = random.randint(1, 10000000)\n",
    "    X_train, X_test, Y_train, Y_test = train_test_split(X, Y, test_size=0.2,random_state=params_t_kern[\"seed_split\"])\n",
    "    params_t_kern[\"seed_catboost\"] = random.randint(1, 10000000)\n",
    "    Model_t_kern = CatBoostRegressor(\n",
    "        iterations=100,\n",
    "        learning_rate=0.1,\n",
    "        depth=6,\n",
    "        random_state=params_t_kern[\"seed_catboost\"],\n",
    "        verbose=False)\n",
    "    Model_t_kern.fit(\n",
    "        X_train, \n",
    "        Y_train, \n",
    "        cat_features=cat_features)\n",
    "    Y_pred = Model_t_kern.predict(X_test)\n",
    "    rrmse = np.sqrt(mean_squared_error(Y_test, Y_pred)) / np.mean(Y_pred)\n",
    "    params_t_kern[\"r2\"] = r2_score(Y_test, Y_pred)\n",
    "    params_t_kern[\"rrmse\"] = np.sqrt(mean_squared_error(Y_test, Y_pred)) / np.mean(Y_pred)\n",
    "\n",
    "print(pd.DataFrame(dict(zip(params_t_kern.keys(), [*params_t_kern.values()])),index=[\"t_mast\"]))\n",
    "pd.DataFrame(Model_t_kern.feature_importances_, index=X.columns, columns=[\"importance\"]).sort_values(by=[\"importance\"], ascending=False)\n"
   ]
  },
  {
   "cell_type": "markdown",
   "metadata": {},
   "source": [
    "* время, потраченное на хинтинг (`t_hint`)"
   ]
  },
  {
   "cell_type": "code",
   "execution_count": 15,
   "metadata": {},
   "outputs": [
    {
     "name": "stderr",
     "output_type": "stream",
     "text": [
      "c:\\Users\\shiri\\anaconda3\\envs\\pymc_env\\Lib\\site-packages\\openpyxl\\worksheet\\_read_only.py:85: UserWarning: Data Validation extension is not supported and will be removed\n",
      "  for idx, row in parser.parse():\n",
      "c:\\time-calc-TT\\scripts\\data_preprocessing.py:22: FutureWarning: Downcasting behavior in `replace` is deprecated and will be removed in a future version. To retain the old behavior, explicitly call `result.infer_objects(copy=False)`. To opt-in to the future behavior, set `pd.set_option('future.no_silent_downcasting', True)`\n",
      "  data[\"is_italic\"] = data[\"is_italic\"].replace({\"есть\": 1, \"нет\": 0}).infer_objects(copy=False)\n"
     ]
    },
    {
     "name": "stdout",
     "output_type": "stream",
     "text": [
      "        seed_split  seed_catboost        r2     rrmse\n",
      "t_mast     7708445        6591361  0.869158  0.298809\n"
     ]
    },
    {
     "data": {
      "text/html": [
       "<div>\n",
       "<style scoped>\n",
       "    .dataframe tbody tr th:only-of-type {\n",
       "        vertical-align: middle;\n",
       "    }\n",
       "\n",
       "    .dataframe tbody tr th {\n",
       "        vertical-align: top;\n",
       "    }\n",
       "\n",
       "    .dataframe thead th {\n",
       "        text-align: right;\n",
       "    }\n",
       "</style>\n",
       "<table border=\"1\" class=\"dataframe\">\n",
       "  <thead>\n",
       "    <tr style=\"text-align: right;\">\n",
       "      <th></th>\n",
       "      <th>importance</th>\n",
       "    </tr>\n",
       "  </thead>\n",
       "  <tbody>\n",
       "    <tr>\n",
       "      <th>n_styles</th>\n",
       "      <td>63.070075</td>\n",
       "    </tr>\n",
       "    <tr>\n",
       "      <th>calc_type</th>\n",
       "      <td>15.166255</td>\n",
       "    </tr>\n",
       "    <tr>\n",
       "      <th>n_gliphs</th>\n",
       "      <td>13.137161</td>\n",
       "    </tr>\n",
       "    <tr>\n",
       "      <th>font_type</th>\n",
       "      <td>5.232321</td>\n",
       "    </tr>\n",
       "    <tr>\n",
       "      <th>is_italic</th>\n",
       "      <td>3.394188</td>\n",
       "    </tr>\n",
       "  </tbody>\n",
       "</table>\n",
       "</div>"
      ],
      "text/plain": [
       "           importance\n",
       "n_styles    63.070075\n",
       "calc_type   15.166255\n",
       "n_gliphs    13.137161\n",
       "font_type    5.232321\n",
       "is_italic    3.394188"
      ]
     },
     "execution_count": 15,
     "metadata": {},
     "output_type": "execute_result"
    }
   ],
   "source": [
    "data_df = preproc.read()['all_data']\n",
    "X = data_df.drop(list(doc.doc[\"targets\"].keys()), axis=1) \n",
    "Y = data_df[list(doc.doc[\"targets\"].keys())][\"t_hint\"].fillna(0)\n",
    "cat_features = list(doc.doc[\"features\"][\"categorial\"].keys())\n",
    "X[cat_features] = X[cat_features].fillna(0).astype(\"str\")\n",
    "\n",
    "params_t_hint = {\n",
    "    \"seed_split\": 0,\n",
    "    \"seed_catboost\": 0,\n",
    "    \"r2\": 0,\n",
    "    \"rrmse\": 0\n",
    "}\n",
    "\n",
    "while params_t_hint[\"r2\"] < 0.85:\n",
    "    params_t_hint[\"seed_split\"] = random.randint(1, 10000000)\n",
    "    X_train, X_test, Y_train, Y_test = train_test_split(X, Y, test_size=0.2,random_state=params_t_hint[\"seed_split\"])\n",
    "    params_t_hint[\"seed_catboost\"] = random.randint(1, 10000000)\n",
    "    Model_t_hint = CatBoostRegressor(\n",
    "        iterations=100,\n",
    "        learning_rate=0.1,\n",
    "        depth=6,\n",
    "        random_state=params_t_hint[\"seed_catboost\"],\n",
    "        verbose=False)\n",
    "    Model_t_hint.fit(\n",
    "        X_train, \n",
    "        Y_train, \n",
    "        cat_features=cat_features)\n",
    "    Y_pred = Model_t_hint.predict(X_test)\n",
    "    rrmse = np.sqrt(mean_squared_error(Y_test, Y_pred)) / np.mean(Y_pred)\n",
    "    params_t_hint[\"r2\"] = r2_score(Y_test, Y_pred)\n",
    "    params_t_hint[\"rrmse\"] = np.sqrt(mean_squared_error(Y_test, Y_pred)) / np.mean(Y_pred)\n",
    "\n",
    "print(pd.DataFrame(dict(zip(params_t_hint.keys(), [*params_t_hint.values()])),index=[\"t_mast\"]))\n",
    "pd.DataFrame(Model_t_hint.feature_importances_, index=X.columns, columns=[\"importance\"]).sort_values(by=[\"importance\"], ascending=False)\n"
   ]
  }
 ],
 "metadata": {
  "kernelspec": {
   "display_name": "pymc_env",
   "language": "python",
   "name": "python3"
  },
  "language_info": {
   "codemirror_mode": {
    "name": "ipython",
    "version": 3
   },
   "file_extension": ".py",
   "mimetype": "text/x-python",
   "name": "python",
   "nbconvert_exporter": "python",
   "pygments_lexer": "ipython3",
   "version": "3.12.8"
  }
 },
 "nbformat": 4,
 "nbformat_minor": 2
}
